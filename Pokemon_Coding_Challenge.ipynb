{
 "cells": [
  {
   "cell_type": "markdown",
   "metadata": {
    "id": "fK2SjXgoq_Tp"
   },
   "source": [
    "Take a look at PokeAPI: <a href=\"https://pokeapi.co/\">https://pokeapi.co/</a>.\n",
    "\n",
    "On this website you will see an API simulator. Trying any combination of correct possible server requests should yield you a successful result in the scrollable area. In this scrollable area is an exact server response you will get if you sent a response to it.\n",
    "\n",
    "Click on the `Documentation` tab, then click on v2. On the next page you'll see a bunch of words that seemingly make no sense. Just like with any API, there is documentation showing you how to use it. API documentation, by nature, is very wordy, overwhelming and almost never straightforward. You will find very few APIs that have simple documentation. Once you start to become a mid-senior level engineer, the little details in documentation will make all the difference in the quality of your results. Most people find API documentation difficult to navigate at first. Don't worry, it's normal.\n",
    "\n",
    "That being said, familiarize yourself with everything in the documentation and try to skim as much as possible to get a feel for where everything is before proceeding. "
   ]
  },
  {
   "cell_type": "markdown",
   "metadata": {
    "id": "MzLYqqcXq_Ty"
   },
   "source": [
    " <strong>`Objective`</strong>: There are several main Pokemon class types: Fire, Water, Grass, Rock, Electric. Your application will use PokeAPI to build your own API program. Compile a list of 30 total Pokemon that identify as the aforementioned class types. Each category will hold a list of Pokemon and their personal attributes and some statistics as follows. Make this program an object-oriented program:\n",
    "\n",
    "**Note** How you compile the list of Pokemon is entirely up to you. "
   ]
  },
  {
   "cell_type": "code",
   "execution_count": 1,
   "metadata": {
    "id": "3y72fjpJq_T0"
   },
   "outputs": [
    {
     "data": {
      "text/plain": [
       "{'Electric': {'characters': [{'name': 'Pikachu',\n",
       "    'height': 4,\n",
       "    'weight': 60,\n",
       "    'stats': {'health (hp)': 35, 'attack': 55, 'defense': 40, 'speed': 90},\n",
       "    'abilities': [{'name': 'lightning-rod'}, {'name': 'static'}]}],\n",
       "  'statistics': {'average height': 55.0,\n",
       "   'average weight': 55.0,\n",
       "   'average health': 55.0,\n",
       "   'average attack': 55.0,\n",
       "   'average defense': 55.0,\n",
       "   'average speed': 55.0}},\n",
       " 'Water': {'characters': [{Ellipsis}], 'statistics': {Ellipsis}}}"
      ]
     },
     "execution_count": 1,
     "metadata": {},
     "output_type": "execute_result"
    }
   ],
   "source": [
    "{\n",
    "    \"Electric\": {\n",
    "        \"characters\": [\n",
    "            {\n",
    "                \"name\": \"Pikachu\",\n",
    "                \"height\": 4,\n",
    "                \"weight\": 60,\n",
    "                \"stats\": {\n",
    "                    \"health (hp)\": 35,\n",
    "                    \"attack\": 55,\n",
    "                    \"defense\": 40,\n",
    "                    \"speed\": 90\n",
    "                },\n",
    "                \"abilities\": [\n",
    "                    {\n",
    "                        \"name\": \"lightning-rod\"\n",
    "                    },\n",
    "                    {\n",
    "                        \"name\": \"static\"\n",
    "                    }\n",
    "                ]\n",
    "            }\n",
    "        ],\n",
    "        \"statistics\": {\n",
    "            \"average height\": 55.0,\n",
    "            \"average weight\": 55.0,\n",
    "            \"average health\": 55.0,\n",
    "            \"average attack\": 55.0,\n",
    "            \"average defense\": 55.0,\n",
    "            \"average speed\": 55.0\n",
    "        }\n",
    "    },\n",
    "    \"Water\": {\n",
    "        \"characters\": [\n",
    "            { ... }\n",
    "        ],\n",
    "        \"statistics\": { ... }\n",
    "    }\n",
    "}"
   ]
  },
  {
   "cell_type": "code",
   "execution_count": 3,
   "metadata": {},
   "outputs": [
    {
     "name": "stdout",
     "output_type": "stream",
     "text": [
      "What pokemon would you like to add? pikachu\n",
      "pikachu\n",
      "4\n",
      "60\n",
      "{'slot': 1, 'type': {'name': 'electric', 'url': 'https://pokeapi.co/api/v2/type/13/'}}\n",
      "[{'ability': {'name': 'static', 'url': 'https://pokeapi.co/api/v2/ability/9/'}, 'is_hidden': False, 'slot': 1}, {'ability': {'name': 'lightning-rod', 'url': 'https://pokeapi.co/api/v2/ability/31/'}, 'is_hidden': True, 'slot': 3}]\n"
     ]
    }
   ],
   "source": [
    "# Group work\n",
    "\n",
    "import requests\n",
    "import json\n",
    "\n",
    "class Pokedex:\n",
    "    _list = []\n",
    "    \n",
    "    def __init__(self, name, type_, height, weight, stats, abilities):\n",
    "        self.name = name\n",
    "        self.type_ = type_\n",
    "        self.height = height\n",
    "        self.weight = weight\n",
    "        self.stats = stats # health, attack, speed {dictionary}\n",
    "        self.abilities = abilities # attack moves {dictionary}\n",
    "    \n",
    "class Program:\n",
    "    \n",
    "    base_url = \"https://pokeapi.co/api/v2/pokemon/\"\n",
    "#     def __init__(self,):\n",
    "#         self.response = requests.get(api_call).json()['name']['type']['height']['weight']['stats']['abilities']\n",
    "#         self.pokemon = []\n",
    "#         data = response.json()\n",
    "        \n",
    "    def run(self):\n",
    "        name = input(\"What pokemon would you like to add? \")\n",
    "        api_call = f\"{self.base_url}{name}\"\n",
    "        response = requests.get(api_call)\n",
    "        self.data = response.json()\n",
    "        print(self.data[\"name\"])\n",
    "        print(self.data[\"height\"])\n",
    "        print(self.data[\"weight\"])\n",
    "        print(self.data[\"types\"][0])\n",
    "        print(self.data[\"abilities\"])\n",
    "        \n",
    "#         types = (self.data[\"types\"])\n",
    "#         print(types)(1)\n",
    "#         abilities = (self.data[\"abilities\"])\n",
    "#         print(abilities)\n",
    "#         ability = (abilities[1])\n",
    "#         print(abilitiy)\n",
    "#         print(self.data[\"types\", \"name\"])\n",
    "        # how to loop over and get specific stats\n",
    "        # access keys to get the values we want\n",
    "        \n",
    "    \n",
    "    \n",
    "\n",
    "program = Program()\n",
    "program.run()\n",
    "\n",
    "#use the api special method to call the request for stats\n"
   ]
  },
  {
   "cell_type": "code",
   "execution_count": 1,
   "metadata": {},
   "outputs": [
    {
     "data": {
      "text/plain": [
       "[{'pokemon': {'name': 'charmander',\n",
       "   'url': 'https://pokeapi.co/api/v2/pokemon/4/'},\n",
       "  'slot': 1},\n",
       " {'pokemon': {'name': 'charmeleon',\n",
       "   'url': 'https://pokeapi.co/api/v2/pokemon/5/'},\n",
       "  'slot': 1},\n",
       " {'pokemon': {'name': 'charizard',\n",
       "   'url': 'https://pokeapi.co/api/v2/pokemon/6/'},\n",
       "  'slot': 1},\n",
       " {'pokemon': {'name': 'vulpix',\n",
       "   'url': 'https://pokeapi.co/api/v2/pokemon/37/'},\n",
       "  'slot': 1},\n",
       " {'pokemon': {'name': 'ninetales',\n",
       "   'url': 'https://pokeapi.co/api/v2/pokemon/38/'},\n",
       "  'slot': 1},\n",
       " {'pokemon': {'name': 'growlithe',\n",
       "   'url': 'https://pokeapi.co/api/v2/pokemon/58/'},\n",
       "  'slot': 1},\n",
       " {'pokemon': {'name': 'arcanine',\n",
       "   'url': 'https://pokeapi.co/api/v2/pokemon/59/'},\n",
       "  'slot': 1},\n",
       " {'pokemon': {'name': 'ponyta',\n",
       "   'url': 'https://pokeapi.co/api/v2/pokemon/77/'},\n",
       "  'slot': 1},\n",
       " {'pokemon': {'name': 'rapidash',\n",
       "   'url': 'https://pokeapi.co/api/v2/pokemon/78/'},\n",
       "  'slot': 1},\n",
       " {'pokemon': {'name': 'magmar',\n",
       "   'url': 'https://pokeapi.co/api/v2/pokemon/126/'},\n",
       "  'slot': 1}]"
      ]
     },
     "execution_count": 1,
     "metadata": {},
     "output_type": "execute_result"
    }
   ],
   "source": [
    "# My work\n",
    "\n",
    "import requests\n",
    "\n",
    "base_url = 'https://pokeapi.co/api/v2/type/'\n",
    "name = 'fire'\n",
    "api_call = f\"{base_url}{name}\"\n",
    "\n",
    "response = requests.get(api_call)\n",
    "response.json()['pokemon'][0:10]\n",
    "\n"
   ]
  },
  {
   "cell_type": "code",
   "execution_count": null,
   "metadata": {},
   "outputs": [],
   "source": []
  }
 ],
 "metadata": {
  "colab": {
   "name": "Pokemon Coding Challenge.ipynb",
   "provenance": []
  },
  "kernelspec": {
   "display_name": "Python 3 (ipykernel)",
   "language": "python",
   "name": "python3"
  },
  "language_info": {
   "codemirror_mode": {
    "name": "ipython",
    "version": 3
   },
   "file_extension": ".py",
   "mimetype": "text/x-python",
   "name": "python",
   "nbconvert_exporter": "python",
   "pygments_lexer": "ipython3",
   "version": "3.9.7"
  }
 },
 "nbformat": 4,
 "nbformat_minor": 1
}
